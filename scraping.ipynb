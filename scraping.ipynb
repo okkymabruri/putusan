{
 "cells": [
  {
   "cell_type": "code",
   "execution_count": 1,
   "metadata": {},
   "outputs": [
    {
     "name": "stdout",
     "output_type": "stream",
     "text": [
      "Defaulting to user installation because normal site-packages is not writeable\n",
      "Collecting selenium\n",
      "  Downloading selenium-3.141.0-py2.py3-none-any.whl (904 kB)\n",
      "\u001b[K     |████████████████████████████████| 904 kB 259 kB/s eta 0:00:01\n",
      "\u001b[?25hRequirement already satisfied: urllib3 in /home/om/.local/lib/python3.8/site-packages (from selenium) (1.25.10)\n",
      "Installing collected packages: selenium\n",
      "Successfully installed selenium-3.141.0\n"
     ]
    }
   ],
   "source": [
    "!pip install selenium"
   ]
  },
  {
   "cell_type": "code",
   "execution_count": 8,
   "metadata": {},
   "outputs": [],
   "source": [
    "#Importing packages\n",
    "from selenium import webdriver\n",
    "import pandas as pd"
   ]
  },
  {
   "cell_type": "code",
   "execution_count": null,
   "metadata": {},
   "outputs": [],
   "source": [
    "https://putusan3.mahkamahagung.go.id/search.html?q=pilkada&page=1\n",
    "...\n",
    "https://putusan3.mahkamahagung.go.id/search.html?q=pilkada&page=137\n",
    "\n",
    "\n",
    "\n",
    "/html/body/div[1]/section/div/div/section/div/div[2]/div[3]/div/strong/a\n",
    "\n",
    "/html/body/div[1]/section/div/div/section/div/div[2]/div[5]/div/strong/a\n",
    "/html/body/div[1]/section/div/div/section/div/div[2]/div[22]/div/strong/a\n",
    "\n",
    "\n",
    "\n",
    "\n",
    "\n",
    "/html/body/div[1]/section/div/div/section/div/div[2]/div[22]/div/strong/a\n"
   ]
  },
  {
   "cell_type": "code",
   "execution_count": 31,
   "metadata": {},
   "outputs": [],
   "source": [
    "driver = webdriver.Chrome('/usr/local/bin/chromedriver')"
   ]
  },
  {
   "cell_type": "code",
   "execution_count": 32,
   "metadata": {},
   "outputs": [],
   "source": [
    "driver.get('https://putusan3.mahkamahagung.go.id/direktori/putusan/06c05c2759b6926fab71e70047d407a1.html')"
   ]
  },
  {
   "cell_type": "code",
   "execution_count": 53,
   "metadata": {},
   "outputs": [],
   "source": [
    "Xpath = '/html/body/div[1]/section[2]/div/div/section/div/div/div[1]/div/div/div/div[1]/div/ul/table/tbody/'\n",
    "Nomor =  driver.find_elements_by_xpath(Xpath + 'tr[1]/td[2]')[0].text\n",
    "ParaPihak =  driver.find_elements_by_xpath(Xpath + 'tr[2]/td[2]')[0].text\n",
    "TingkatProses =  driver.find_elements_by_xpath(Xpath + 'tr[3]/td[2]')[0].text\n",
    "Klasifikasi =  driver.find_elements_by_xpath(Xpath + 'tr[4]/td[2]')[0].text\n",
    "Tahun =  driver.find_elements_by_xpath(Xpath + 'tr[5]/td[2]')[0].text\n",
    "TanggalRegister =  driver.find_elements_by_xpath(Xpath + 'tr[6]/td[2]')[0].text\n",
    "LembagaPeradilan =  driver.find_elements_by_xpath(Xpath + 'tr[7]/td[2]')[0].text\n",
    "JenisLembagaPeradilan =  driver.find_elements_by_xpath(Xpath + 'tr[8]/td[2]')[0].text\n",
    "HakimKetua =  driver.find_elements_by_xpath(Xpath + 'tr[9]/td[2]')[0].text\n",
    "HakimAnggota =  driver.find_elements_by_xpath(Xpath + 'tr[10]/td[2]')[0].text\n",
    "Panitera =  driver.find_elements_by_xpath(Xpath + 'tr[11]/td[2]')[0].text\n",
    "Amar =  driver.find_elements_by_xpath(Xpath + 'tr[12]/td[2]')[0].text\n",
    "CatatanAmar =  driver.find_elements_by_xpath(Xpath + 'tr[13]/td[2]')[0].text\n",
    "TanggalMusyawarah =  driver.find_elements_by_xpath(Xpath + 'tr[14]/td[2]')[0].text\n",
    "TanggalDibacakan =  driver.find_elements_by_xpath(Xpath + 'tr[15]/td[2]')[0].text\n",
    "Kaidah =  driver.find_elements_by_xpath(Xpath + 'tr[16]/td[2]')[0].text\n",
    "Status =  driver.find_elements_by_xpath(Xpath + 'tr[17]/td[2]')[0].text"
   ]
  },
  {
   "cell_type": "code",
   "execution_count": null,
   "metadata": {},
   "outputs": [],
   "source": [
    "Xpath = /html/body/div[1]/section[2]/div/div/section/div/div/div[1]/div/div/div/div[1]/div/ul/table/tbody/\n",
    "#tr[12]/td[2]\n",
    "\n",
    "Nomor =  driver.find_elements_by_xpath(Xpath, tr[1]/td[2]'\n",
    "\n",
    "ParaPihak tr[2]/td[2]\n",
    "\n",
    "TingkatProses tr[3]/td[2]\n",
    "\n",
    "Klasifikasi tr[4]/td[2]\n",
    "\n",
    "Tahun tr[5]/td[2]\n",
    "\n",
    "TanggalRegister tr[6]/td[2]\n",
    "\n",
    "LembagaPeradilan tr[7]/td[2]/a\n",
    "\n",
    "JenisLembagaPeradilan tr[8]/td[2]\n",
    "\n",
    "HakimKetua tr[9]/td[2]\n",
    "\n",
    "HakimAnggota tr[10]/td[2]\n",
    "\n",
    "Panitera tr[11]/td[2]\n",
    "\n",
    "Amar tr[12]/td[2]\n",
    "\n",
    "CatatanAmar tr[13]/td[2]\n",
    "\n",
    "TanggalMusyawarah tr[14]/td[2]\n",
    "\n",
    "TanggalDibacakan tr[15]/td[2]\n",
    "\n",
    "Kaidah tr[16]/td[2]\n",
    "\n",
    "Status tr[17]/td[2]\n"
   ]
  },
  {
   "cell_type": "markdown",
   "metadata": {},
   "source": [
    "Nomor /html/body/div[1]/section[2]/div/div/section/div/div/div[1]/div/div/div/div[1]/div/ul/table/tbody/tr[1]/td[2]\n",
    "\n",
    "ParaPihak /html/body/div[1]/section[2]/div/div/section/div/div/div[1]/div/div/div/div[1]/div/ul/table/tbody/tr[2]/td[2]\n",
    "\n",
    "TingkatProses /html/body/div[1]/section[2]/div/div/section/div/div/div[1]/div/div/div/div[1]/div/ul/table/tbody/tr[3]/td[2]\n",
    "\n",
    "Klasifikasi /html/body/div[1]/section[2]/div/div/section/div/div/div[1]/div/div/div/div[1]/div/ul/table/tbody/tr[4]/td[2]\n",
    "\n",
    "Tahun /html/body/div[1]/section[2]/div/div/section/div/div/div[1]/div/div/div/div[1]/div/ul/table/tbody/tr[5]/td[2]\n",
    "\n",
    "TanggalRegister /html/body/div[1]/section[2]/div/div/section/div/div/div[1]/div/div/div/div[1]/div/ul/table/tbody/tr[6]/td[2]\n",
    "\n",
    "LembagaPeradilan /html/body/div[1]/section[2]/div/div/section/div/div/div[1]/div/div/div/div[1]/div/ul/table/tbody/tr[7]/td[2]/a\n",
    "\n",
    "JenisLembagaPeradilan /html/body/div[1]/section[2]/div/div/section/div/div/div[1]/div/div/div/div[1]/div/ul/table/tbody/tr[8]/td[2]\n",
    "\n",
    "HakimKetua /html/body/div[1]/section[2]/div/div/section/div/div/div[1]/div/div/div/div[1]/div/ul/table/tbody/tr[9]/td[2]\n",
    "\n",
    "HakimAnggota /html/body/div[1]/section[2]/div/div/section/div/div/div[1]/div/div/div/div[1]/div/ul/table/tbody/tr[10]/td[2]\n",
    "\n",
    "Panitera /html/body/div[1]/section[2]/div/div/section/div/div/div[1]/div/div/div/div[1]/div/ul/table/tbody/tr[11]/td[2]\n",
    "\n",
    "Amar /html/body/div[1]/section[2]/div/div/section/div/div/div[1]/div/div/div/div[1]/div/ul/table/tbody/tr[12]/td[2]\n",
    "\n",
    "CatatanAmar /html/body/div[1]/section[2]/div/div/section/div/div/div[1]/div/div/div/div[1]/div/ul/table/tbody/tr[13]/td[2]\n",
    "\n",
    "TanggalMusyawarah /html/body/div[1]/section[2]/div/div/section/div/div/div[1]/div/div/div/div[1]/div/ul/table/tbody/tr[14]/td[2]\n",
    "\n",
    "TanggalDibacakan /html/body/div[1]/section[2]/div/div/section/div/div/div[1]/div/div/div/div[1]/div/ul/table/tbody/tr[15]/td[2]\n",
    "\n",
    "Kaidah /html/body/div[1]/section[2]/div/div/section/div/div/div[1]/div/div/div/div[1]/div/ul/table/tbody/tr[16]/td[2]\n",
    "\n",
    "Status /html/body/div[1]/section[2]/div/div/section/div/div/div[1]/div/div/div/div[1]/div/ul/table/tbody/tr[17]/td[2]"
   ]
  }
 ],
 "metadata": {
  "kernelspec": {
   "display_name": "Python 3",
   "language": "python",
   "name": "python3"
  },
  "language_info": {
   "codemirror_mode": {
    "name": "ipython",
    "version": 3
   },
   "file_extension": ".py",
   "mimetype": "text/x-python",
   "name": "python",
   "nbconvert_exporter": "python",
   "pygments_lexer": "ipython3",
   "version": "3.8.5"
  }
 },
 "nbformat": 4,
 "nbformat_minor": 4
}
